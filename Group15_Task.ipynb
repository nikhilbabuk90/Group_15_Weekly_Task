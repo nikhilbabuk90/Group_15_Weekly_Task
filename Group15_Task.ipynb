{
 "cells": [
  {
   "cell_type": "markdown",
   "id": "cdb77cca",
   "metadata": {},
   "source": [
    "- Importing Libraries"
   ]
  },
  {
   "cell_type": "code",
   "execution_count": 45,
   "id": "23b24174",
   "metadata": {},
   "outputs": [],
   "source": [
    "import numpy as np\n",
    "import pandas as pd"
   ]
  },
  {
   "cell_type": "markdown",
   "id": "ce014d9e",
   "metadata": {},
   "source": [
    " - Data is given as a excel file and importing into python environment."
   ]
  },
  {
   "cell_type": "code",
   "execution_count": 46,
   "id": "41d072c0",
   "metadata": {},
   "outputs": [],
   "source": [
    "Countries_GDP=pd.read_excel(r'C:\\Users\\GOKUL BABU K\\Downloads\\Dataset_w6.xlsx')"
   ]
  },
  {
   "cell_type": "markdown",
   "id": "7598cc6d",
   "metadata": {},
   "source": [
    "- checking data is imported to Python environment by printing the data."
   ]
  },
  {
   "cell_type": "code",
   "execution_count": 47,
   "id": "b1f5ffc2",
   "metadata": {},
   "outputs": [
    {
     "data": {
      "text/html": [
       "<div>\n",
       "<style scoped>\n",
       "    .dataframe tbody tr th:only-of-type {\n",
       "        vertical-align: middle;\n",
       "    }\n",
       "\n",
       "    .dataframe tbody tr th {\n",
       "        vertical-align: top;\n",
       "    }\n",
       "\n",
       "    .dataframe thead th {\n",
       "        text-align: right;\n",
       "    }\n",
       "</style>\n",
       "<table border=\"1\" class=\"dataframe\">\n",
       "  <thead>\n",
       "    <tr style=\"text-align: right;\">\n",
       "      <th></th>\n",
       "      <th>country</th>\n",
       "      <th>Region</th>\n",
       "      <th>Surface area (km2)</th>\n",
       "      <th>Population in thousands (2017)</th>\n",
       "      <th>GDP per capita (current US$)</th>\n",
       "      <th>Agricultural production index</th>\n",
       "      <th>International trade: Imports (million US$)</th>\n",
       "    </tr>\n",
       "  </thead>\n",
       "  <tbody>\n",
       "    <tr>\n",
       "      <th>0</th>\n",
       "      <td>Afghanistan</td>\n",
       "      <td>SouthernAsia</td>\n",
       "      <td>652864</td>\n",
       "      <td>35530</td>\n",
       "      <td>623.2</td>\n",
       "      <td>125</td>\n",
       "      <td>3568</td>\n",
       "    </tr>\n",
       "    <tr>\n",
       "      <th>1</th>\n",
       "      <td>Albania</td>\n",
       "      <td>SouthernEurope</td>\n",
       "      <td>28748</td>\n",
       "      <td>2930</td>\n",
       "      <td>3984.2</td>\n",
       "      <td>134</td>\n",
       "      <td>4669</td>\n",
       "    </tr>\n",
       "    <tr>\n",
       "      <th>2</th>\n",
       "      <td>Algeria</td>\n",
       "      <td>NorthernAfrica</td>\n",
       "      <td>2381741</td>\n",
       "      <td>41318</td>\n",
       "      <td>4154.1</td>\n",
       "      <td>160</td>\n",
       "      <td>47091</td>\n",
       "    </tr>\n",
       "    <tr>\n",
       "      <th>3</th>\n",
       "      <td>Angola</td>\n",
       "      <td>MiddleAfrica</td>\n",
       "      <td>1246700</td>\n",
       "      <td>29784</td>\n",
       "      <td>4714.1</td>\n",
       "      <td>175</td>\n",
       "      <td>8790</td>\n",
       "    </tr>\n",
       "    <tr>\n",
       "      <th>4</th>\n",
       "      <td>Antigua and Barbuda</td>\n",
       "      <td>Caribbean</td>\n",
       "      <td>442</td>\n",
       "      <td>102</td>\n",
       "      <td>14764.5</td>\n",
       "      <td>88</td>\n",
       "      <td>491</td>\n",
       "    </tr>\n",
       "  </tbody>\n",
       "</table>\n",
       "</div>"
      ],
      "text/plain": [
       "               country          Region  Surface area (km2)  \\\n",
       "0          Afghanistan    SouthernAsia              652864   \n",
       "1              Albania  SouthernEurope               28748   \n",
       "2              Algeria  NorthernAfrica             2381741   \n",
       "3               Angola    MiddleAfrica             1246700   \n",
       "4  Antigua and Barbuda       Caribbean                 442   \n",
       "\n",
       "   Population in thousands (2017)  GDP per capita (current US$)  \\\n",
       "0                           35530                         623.2   \n",
       "1                            2930                        3984.2   \n",
       "2                           41318                        4154.1   \n",
       "3                           29784                        4714.1   \n",
       "4                             102                       14764.5   \n",
       "\n",
       "   Agricultural production index   International trade: Imports (million US$)  \n",
       "0                             125                                        3568  \n",
       "1                             134                                        4669  \n",
       "2                             160                                       47091  \n",
       "3                             175                                        8790  \n",
       "4                              88                                         491  "
      ]
     },
     "execution_count": 47,
     "metadata": {},
     "output_type": "execute_result"
    }
   ],
   "source": [
    "Countries_GDP.head()"
   ]
  },
  {
   "cell_type": "markdown",
   "id": "5fa6f929",
   "metadata": {},
   "source": [
    "# 1.\tFind out how many countries are there in the dataset."
   ]
  },
  {
   "cell_type": "markdown",
   "id": "64c8ac95",
   "metadata": {},
   "source": [
    "- Taking the count of values available in column which contains contry names"
   ]
  },
  {
   "cell_type": "code",
   "execution_count": 21,
   "id": "8650f1d2",
   "metadata": {},
   "outputs": [],
   "source": [
    "Count_of_Countries = Countries_GDP[\"country\"].count()"
   ]
  },
  {
   "cell_type": "code",
   "execution_count": 22,
   "id": "3b128fa6",
   "metadata": {},
   "outputs": [
    {
     "name": "stdout",
     "output_type": "stream",
     "text": [
      "Total Number of Countries =  196\n"
     ]
    }
   ],
   "source": [
    "print(\"Total Number of Countries = \",Count_of_Countries)"
   ]
  },
  {
   "cell_type": "markdown",
   "id": "2c9887ba",
   "metadata": {},
   "source": [
    "# 2.\tFind out how many countries with respect to the region are available in the dataset"
   ]
  },
  {
   "cell_type": "markdown",
   "id": "bb6884bd",
   "metadata": {},
   "source": [
    "- Created groups in the countries on the basis of regions"
   ]
  },
  {
   "cell_type": "code",
   "execution_count": 27,
   "id": "7e1f189c",
   "metadata": {},
   "outputs": [],
   "source": [
    "grouped_countries = Countries_GDP.groupby(\"Region\").size()"
   ]
  },
  {
   "cell_type": "code",
   "execution_count": 28,
   "id": "696e1799",
   "metadata": {},
   "outputs": [
    {
     "data": {
      "text/plain": [
       "Region\n",
       "Caribbean            16\n",
       "CentralAmerica        8\n",
       "CentralAsia           5\n",
       "EasternAfrica        17\n",
       "EasternAsia           7\n",
       "EasternEurope        10\n",
       "Melanesia             5\n",
       "Micronesia            4\n",
       "MiddleAfrica          9\n",
       "NorthernAfrica        5\n",
       "NorthernAmerica       4\n",
       "NorthernEurope       10\n",
       "Oceania               2\n",
       "Polynesia             5\n",
       "South-easternAsia    11\n",
       "SouthAmerica         12\n",
       "SouthernAfrica        5\n",
       "SouthernAsia          9\n",
       "SouthernEurope       12\n",
       "WesternAfrica        15\n",
       "WesternAsia          18\n",
       "WesternEurope         7\n",
       "dtype: int64"
      ]
     },
     "execution_count": 28,
     "metadata": {},
     "output_type": "execute_result"
    }
   ],
   "source": [
    "grouped_countries"
   ]
  },
  {
   "cell_type": "markdown",
   "id": "679c92b8",
   "metadata": {},
   "source": [
    "# 3.\tOn average which region has the highest   \n",
    "# a) GDP per capita (current US$)"
   ]
  },
  {
   "cell_type": "markdown",
   "id": "85010771",
   "metadata": {},
   "source": [
    "- Find the groupwise mean of GDP per capita"
   ]
  },
  {
   "cell_type": "code",
   "execution_count": 49,
   "id": "8c0c1a92",
   "metadata": {},
   "outputs": [],
   "source": [
    "mean_GDP = Countries_GDP.groupby(\"Region\")[\"GDP per capita (current US$)\"].mean().reset_index()"
   ]
  },
  {
   "cell_type": "markdown",
   "id": "190d8818",
   "metadata": {},
   "source": [
    "- Sort the values in Descending order and show the first raw"
   ]
  },
  {
   "cell_type": "code",
   "execution_count": 48,
   "id": "dbfe388b",
   "metadata": {},
   "outputs": [
    {
     "data": {
      "text/html": [
       "<div>\n",
       "<style scoped>\n",
       "    .dataframe tbody tr th:only-of-type {\n",
       "        vertical-align: middle;\n",
       "    }\n",
       "\n",
       "    .dataframe tbody tr th {\n",
       "        vertical-align: top;\n",
       "    }\n",
       "\n",
       "    .dataframe thead th {\n",
       "        text-align: right;\n",
       "    }\n",
       "</style>\n",
       "<table border=\"1\" class=\"dataframe\">\n",
       "  <thead>\n",
       "    <tr style=\"text-align: right;\">\n",
       "      <th></th>\n",
       "      <th>Region</th>\n",
       "      <th>GDP per capita (current US$)</th>\n",
       "    </tr>\n",
       "  </thead>\n",
       "  <tbody>\n",
       "    <tr>\n",
       "      <th>10</th>\n",
       "      <td>NorthernAmerica</td>\n",
       "      <td>57659.0</td>\n",
       "    </tr>\n",
       "  </tbody>\n",
       "</table>\n",
       "</div>"
      ],
      "text/plain": [
       "             Region  GDP per capita (current US$)\n",
       "10  NorthernAmerica                       57659.0"
      ]
     },
     "execution_count": 48,
     "metadata": {},
     "output_type": "execute_result"
    }
   ],
   "source": [
    "mean_GDP.sort_values('GDP per capita (current US$)',ascending=False).head(1)"
   ]
  },
  {
   "cell_type": "markdown",
   "id": "939960b6",
   "metadata": {},
   "source": [
    "# b.\tInternational trade: Imports (million US$)"
   ]
  },
  {
   "cell_type": "markdown",
   "id": "a32de30c",
   "metadata": {},
   "source": [
    "- Find the groupwise mean of International imports"
   ]
  },
  {
   "cell_type": "code",
   "execution_count": 50,
   "id": "abab1800",
   "metadata": {},
   "outputs": [],
   "source": [
    "mean_Import = Countries_GDP.groupby(\"Region\")[\"International trade: Imports (million US$)\"].mean().reset_index()"
   ]
  },
  {
   "cell_type": "markdown",
   "id": "aaa4d847",
   "metadata": {},
   "source": [
    "- Sort the values in Descending order and show the first raw"
   ]
  },
  {
   "cell_type": "code",
   "execution_count": 41,
   "id": "6349b66d",
   "metadata": {},
   "outputs": [
    {
     "data": {
      "text/html": [
       "<div>\n",
       "<style scoped>\n",
       "    .dataframe tbody tr th:only-of-type {\n",
       "        vertical-align: middle;\n",
       "    }\n",
       "\n",
       "    .dataframe tbody tr th {\n",
       "        vertical-align: top;\n",
       "    }\n",
       "\n",
       "    .dataframe thead th {\n",
       "        text-align: right;\n",
       "    }\n",
       "</style>\n",
       "<table border=\"1\" class=\"dataframe\">\n",
       "  <thead>\n",
       "    <tr style=\"text-align: right;\">\n",
       "      <th></th>\n",
       "      <th>Region</th>\n",
       "      <th>International trade: Imports (million US$)</th>\n",
       "    </tr>\n",
       "  </thead>\n",
       "  <tbody>\n",
       "    <tr>\n",
       "      <th>10</th>\n",
       "      <td>NorthernAmerica</td>\n",
       "      <td>663552.25</td>\n",
       "    </tr>\n",
       "  </tbody>\n",
       "</table>\n",
       "</div>"
      ],
      "text/plain": [
       "             Region  International trade: Imports (million US$)\n",
       "10  NorthernAmerica                                   663552.25"
      ]
     },
     "execution_count": 41,
     "metadata": {},
     "output_type": "execute_result"
    }
   ],
   "source": [
    "mean_Import.sort_values(\"International trade: Imports (million US$)\",ascending=False).head(1)"
   ]
  },
  {
   "cell_type": "markdown",
   "id": "cb8683cf",
   "metadata": {},
   "source": [
    "# 4.\tFind out which region has more consistent with respect to GDP per capita (current US$)"
   ]
  },
  {
   "cell_type": "markdown",
   "id": "16886c75",
   "metadata": {},
   "source": [
    "- measuring the consistency of GDP per capita by using standard deviation. If the std deviation is less data will b more consistent."
   ]
  },
  {
   "cell_type": "markdown",
   "id": "ce76acbf",
   "metadata": {},
   "source": [
    "- Find the groupwise mean of GDP per capita"
   ]
  },
  {
   "cell_type": "code",
   "execution_count": 43,
   "id": "ab949cb4",
   "metadata": {},
   "outputs": [],
   "source": [
    "Std_GDP = Countries_GDP.groupby(\"Region\")[\"GDP per capita (current US$)\"].std().reset_index()"
   ]
  },
  {
   "cell_type": "markdown",
   "id": "43cc6a02",
   "metadata": {},
   "source": [
    "- Sort the values in ascending order and show the first raw"
   ]
  },
  {
   "cell_type": "code",
   "execution_count": 44,
   "id": "8b8eaddf",
   "metadata": {
    "scrolled": true
   },
   "outputs": [
    {
     "data": {
      "text/html": [
       "<div>\n",
       "<style scoped>\n",
       "    .dataframe tbody tr th:only-of-type {\n",
       "        vertical-align: middle;\n",
       "    }\n",
       "\n",
       "    .dataframe tbody tr th {\n",
       "        vertical-align: top;\n",
       "    }\n",
       "\n",
       "    .dataframe thead th {\n",
       "        text-align: right;\n",
       "    }\n",
       "</style>\n",
       "<table border=\"1\" class=\"dataframe\">\n",
       "  <thead>\n",
       "    <tr style=\"text-align: right;\">\n",
       "      <th></th>\n",
       "      <th>Region</th>\n",
       "      <th>GDP per capita (current US$)</th>\n",
       "    </tr>\n",
       "  </thead>\n",
       "  <tbody>\n",
       "    <tr>\n",
       "      <th>19</th>\n",
       "      <td>WesternAfrica</td>\n",
       "      <td>815.095399</td>\n",
       "    </tr>\n",
       "  </tbody>\n",
       "</table>\n",
       "</div>"
      ],
      "text/plain": [
       "           Region  GDP per capita (current US$)\n",
       "19  WesternAfrica                    815.095399"
      ]
     },
     "execution_count": 44,
     "metadata": {},
     "output_type": "execute_result"
    }
   ],
   "source": [
    "Std_GDP.sort_values('GDP per capita (current US$)',ascending=True).head(1)"
   ]
  },
  {
   "cell_type": "markdown",
   "id": "59b167bf",
   "metadata": {},
   "source": []
  },
  {
   "cell_type": "code",
   "execution_count": null,
   "id": "7209c596",
   "metadata": {},
   "outputs": [],
   "source": []
  }
 ],
 "metadata": {
  "kernelspec": {
   "display_name": "Python 3",
   "language": "python",
   "name": "python3"
  },
  "language_info": {
   "codemirror_mode": {
    "name": "ipython",
    "version": 3
   },
   "file_extension": ".py",
   "mimetype": "text/x-python",
   "name": "python",
   "nbconvert_exporter": "python",
   "pygments_lexer": "ipython3",
   "version": "3.8.8"
  }
 },
 "nbformat": 4,
 "nbformat_minor": 5
}
